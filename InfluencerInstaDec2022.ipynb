{
  "nbformat": 4,
  "nbformat_minor": 0,
  "metadata": {
    "colab": {
      "provenance": []
    },
    "kernelspec": {
      "name": "python3",
      "display_name": "Python 3"
    },
    "language_info": {
      "name": "python"
    }
  },
  "cells": [
    {
      "cell_type": "markdown",
      "source": [
        "## Business Understanding\n",
        "\n",
        "Analysis influencer tiktok"
      ],
      "metadata": {
        "id": "V_JE5Avv1D3O"
      }
    },
    {
      "cell_type": "markdown",
      "source": [
        "## Data Understanding\n",
        "---\n",
        "\n",
        "\n",
        "* Rank\n",
        "* Tiktoker name\n",
        "* Tiktok name\n",
        "* followers\n",
        "* views(avg)\n",
        "* likes(avg.)\n",
        "* comments(avg.)\n",
        "* shares(avg.)\n",
        "\n"
      ],
      "metadata": {
        "id": "WH9FQyVi1UOf"
      }
    },
    {
      "cell_type": "markdown",
      "source": [
        "### Download dataset"
      ],
      "metadata": {
        "id": "SreafdDq1cGF"
      }
    },
    {
      "cell_type": "code",
      "source": [
        "# install kaggle package\n",
        "\n",
        "!pip install kaggle"
      ],
      "metadata": {
        "colab": {
          "base_uri": "https://localhost:8080/"
        },
        "id": "_Ax0R-Yi1P-_",
        "outputId": "ecea55e2-e9ad-44f5-c971-02cb6d334baf"
      },
      "execution_count": 2,
      "outputs": [
        {
          "output_type": "stream",
          "name": "stdout",
          "text": [
            "Looking in indexes: https://pypi.org/simple, https://us-python.pkg.dev/colab-wheels/public/simple/\n",
            "Requirement already satisfied: kaggle in /usr/local/lib/python3.9/dist-packages (1.5.13)\n",
            "Requirement already satisfied: tqdm in /usr/local/lib/python3.9/dist-packages (from kaggle) (4.65.0)\n",
            "Requirement already satisfied: urllib3 in /usr/local/lib/python3.9/dist-packages (from kaggle) (1.26.15)\n",
            "Requirement already satisfied: certifi in /usr/local/lib/python3.9/dist-packages (from kaggle) (2022.12.7)\n",
            "Requirement already satisfied: python-dateutil in /usr/local/lib/python3.9/dist-packages (from kaggle) (2.8.2)\n",
            "Requirement already satisfied: python-slugify in /usr/local/lib/python3.9/dist-packages (from kaggle) (8.0.1)\n",
            "Requirement already satisfied: six>=1.10 in /usr/local/lib/python3.9/dist-packages (from kaggle) (1.16.0)\n",
            "Requirement already satisfied: requests in /usr/local/lib/python3.9/dist-packages (from kaggle) (2.27.1)\n",
            "Requirement already satisfied: text-unidecode>=1.3 in /usr/local/lib/python3.9/dist-packages (from python-slugify->kaggle) (1.3)\n",
            "Requirement already satisfied: idna<4,>=2.5 in /usr/local/lib/python3.9/dist-packages (from requests->kaggle) (3.4)\n",
            "Requirement already satisfied: charset-normalizer~=2.0.0 in /usr/local/lib/python3.9/dist-packages (from requests->kaggle) (2.0.12)\n"
          ]
        }
      ]
    },
    {
      "cell_type": "code",
      "source": [
        "# create folder\n",
        "\n",
        "!mkdir ~/.kaggle"
      ],
      "metadata": {
        "id": "yodyCBxl1tFM"
      },
      "execution_count": 4,
      "outputs": []
    },
    {
      "cell_type": "code",
      "source": [
        "!cp kaggle.json ~/.kaggle"
      ],
      "metadata": {
        "id": "Hloczrxt1x5g"
      },
      "execution_count": 5,
      "outputs": []
    },
    {
      "cell_type": "code",
      "source": [
        "!chmod 600 ~/.kaggle/kaggle.json"
      ],
      "metadata": {
        "id": "cE0LuvD52LdS"
      },
      "execution_count": 6,
      "outputs": []
    },
    {
      "cell_type": "code",
      "source": [
        "!kaggle datasets download -d ramjasmaurya/top-1000-social-media-channels"
      ],
      "metadata": {
        "colab": {
          "base_uri": "https://localhost:8080/"
        },
        "id": "C106mX-x2Rfk",
        "outputId": "cf822e1e-e5eb-4f43-8da5-4b64e6cd1e2b"
      },
      "execution_count": 7,
      "outputs": [
        {
          "output_type": "stream",
          "name": "stdout",
          "text": [
            "Downloading top-1000-social-media-channels.zip to /content\n",
            "\r  0% 0.00/428k [00:00<?, ?B/s]\n",
            "\r100% 428k/428k [00:00<00:00, 116MB/s]\n"
          ]
        }
      ]
    },
    {
      "cell_type": "code",
      "source": [
        "!unzip /content/top-1000-social-media-channels.zip"
      ],
      "metadata": {
        "colab": {
          "base_uri": "https://localhost:8080/"
        },
        "id": "Y06Wo7VV2tg9",
        "outputId": "405a6fa0-168e-4616-fec2-79e3c07096ff"
      },
      "execution_count": 42,
      "outputs": [
        {
          "output_type": "stream",
          "name": "stdout",
          "text": [
            "Archive:  /content/top-1000-social-media-channels.zip\n",
            "replace social media influencers - Tiktok sep 2022.csv? [y]es, [n]o, [A]ll, [N]one, [r]ename: "
          ]
        }
      ]
    },
    {
      "cell_type": "markdown",
      "source": [
        "## Data preparation"
      ],
      "metadata": {
        "id": "1fkvZyMD3KK0"
      }
    },
    {
      "cell_type": "code",
      "source": [
        "# import libraries\n",
        "\n",
        "import pandas as pd\n",
        "import seaborn as sns\n",
        "sns.set_style('darkgrid')"
      ],
      "metadata": {
        "id": "Q0NqCFXm3Oxs"
      },
      "execution_count": 81,
      "outputs": []
    },
    {
      "cell_type": "code",
      "source": [
        "# load data\n",
        "\n",
        "df = pd.read_csv('/content/social media influencers-INSTAGRAM - -DEC 2022.csv')"
      ],
      "metadata": {
        "id": "0GBVdk-P3e-B"
      },
      "execution_count": 82,
      "outputs": []
    },
    {
      "cell_type": "code",
      "source": [
        "# display head data\n",
        "\n",
        "df.head()"
      ],
      "metadata": {
        "colab": {
          "base_uri": "https://localhost:8080/",
          "height": 0
        },
        "id": "gHqNUQa56s8o",
        "outputId": "edc6a9a6-801c-43b1-8e2f-2cf44ace64d5"
      },
      "execution_count": 83,
      "outputs": [
        {
          "output_type": "execute_result",
          "data": {
            "text/plain": [
              "   Rank           name     instagram name          Category_1 Category_2  \\\n",
              "0     1       leomessi          Leo Messi  Sports with a ball     Family   \n",
              "1     2      cristiano  Cristiano Ronaldo  Sports with a ball        NaN   \n",
              "2     3       neymarjr              NJ 🇧🇷  Sports with a ball        NaN   \n",
              "3     4    kyliejenner            Kylie 🤍             Fashion   Modeling   \n",
              "4     5  kendalljenner            Kendall            Modeling    Fashion   \n",
              "\n",
              "  followers        country Eng. (Auth.) Eng. (Avg.)  \n",
              "0    409.8M      Argentina        17.8M       23.4M  \n",
              "1      523M          India        11.7M       14.7M  \n",
              "2    198.9M         Brazil         6.7M        9.5M  \n",
              "3    376.3M  United States         2.7M        4.3M  \n",
              "4      268M  United States         3.2M          5M  "
            ],
            "text/html": [
              "\n",
              "  <div id=\"df-0f4a5381-ddf2-43c5-a63d-98bdedac26e7\">\n",
              "    <div class=\"colab-df-container\">\n",
              "      <div>\n",
              "<style scoped>\n",
              "    .dataframe tbody tr th:only-of-type {\n",
              "        vertical-align: middle;\n",
              "    }\n",
              "\n",
              "    .dataframe tbody tr th {\n",
              "        vertical-align: top;\n",
              "    }\n",
              "\n",
              "    .dataframe thead th {\n",
              "        text-align: right;\n",
              "    }\n",
              "</style>\n",
              "<table border=\"1\" class=\"dataframe\">\n",
              "  <thead>\n",
              "    <tr style=\"text-align: right;\">\n",
              "      <th></th>\n",
              "      <th>Rank</th>\n",
              "      <th>name</th>\n",
              "      <th>instagram name</th>\n",
              "      <th>Category_1</th>\n",
              "      <th>Category_2</th>\n",
              "      <th>followers</th>\n",
              "      <th>country</th>\n",
              "      <th>Eng. (Auth.)</th>\n",
              "      <th>Eng. (Avg.)</th>\n",
              "    </tr>\n",
              "  </thead>\n",
              "  <tbody>\n",
              "    <tr>\n",
              "      <th>0</th>\n",
              "      <td>1</td>\n",
              "      <td>leomessi</td>\n",
              "      <td>Leo Messi</td>\n",
              "      <td>Sports with a ball</td>\n",
              "      <td>Family</td>\n",
              "      <td>409.8M</td>\n",
              "      <td>Argentina</td>\n",
              "      <td>17.8M</td>\n",
              "      <td>23.4M</td>\n",
              "    </tr>\n",
              "    <tr>\n",
              "      <th>1</th>\n",
              "      <td>2</td>\n",
              "      <td>cristiano</td>\n",
              "      <td>Cristiano Ronaldo</td>\n",
              "      <td>Sports with a ball</td>\n",
              "      <td>NaN</td>\n",
              "      <td>523M</td>\n",
              "      <td>India</td>\n",
              "      <td>11.7M</td>\n",
              "      <td>14.7M</td>\n",
              "    </tr>\n",
              "    <tr>\n",
              "      <th>2</th>\n",
              "      <td>3</td>\n",
              "      <td>neymarjr</td>\n",
              "      <td>NJ 🇧🇷</td>\n",
              "      <td>Sports with a ball</td>\n",
              "      <td>NaN</td>\n",
              "      <td>198.9M</td>\n",
              "      <td>Brazil</td>\n",
              "      <td>6.7M</td>\n",
              "      <td>9.5M</td>\n",
              "    </tr>\n",
              "    <tr>\n",
              "      <th>3</th>\n",
              "      <td>4</td>\n",
              "      <td>kyliejenner</td>\n",
              "      <td>Kylie 🤍</td>\n",
              "      <td>Fashion</td>\n",
              "      <td>Modeling</td>\n",
              "      <td>376.3M</td>\n",
              "      <td>United States</td>\n",
              "      <td>2.7M</td>\n",
              "      <td>4.3M</td>\n",
              "    </tr>\n",
              "    <tr>\n",
              "      <th>4</th>\n",
              "      <td>5</td>\n",
              "      <td>kendalljenner</td>\n",
              "      <td>Kendall</td>\n",
              "      <td>Modeling</td>\n",
              "      <td>Fashion</td>\n",
              "      <td>268M</td>\n",
              "      <td>United States</td>\n",
              "      <td>3.2M</td>\n",
              "      <td>5M</td>\n",
              "    </tr>\n",
              "  </tbody>\n",
              "</table>\n",
              "</div>\n",
              "      <button class=\"colab-df-convert\" onclick=\"convertToInteractive('df-0f4a5381-ddf2-43c5-a63d-98bdedac26e7')\"\n",
              "              title=\"Convert this dataframe to an interactive table.\"\n",
              "              style=\"display:none;\">\n",
              "        \n",
              "  <svg xmlns=\"http://www.w3.org/2000/svg\" height=\"24px\"viewBox=\"0 0 24 24\"\n",
              "       width=\"24px\">\n",
              "    <path d=\"M0 0h24v24H0V0z\" fill=\"none\"/>\n",
              "    <path d=\"M18.56 5.44l.94 2.06.94-2.06 2.06-.94-2.06-.94-.94-2.06-.94 2.06-2.06.94zm-11 1L8.5 8.5l.94-2.06 2.06-.94-2.06-.94L8.5 2.5l-.94 2.06-2.06.94zm10 10l.94 2.06.94-2.06 2.06-.94-2.06-.94-.94-2.06-.94 2.06-2.06.94z\"/><path d=\"M17.41 7.96l-1.37-1.37c-.4-.4-.92-.59-1.43-.59-.52 0-1.04.2-1.43.59L10.3 9.45l-7.72 7.72c-.78.78-.78 2.05 0 2.83L4 21.41c.39.39.9.59 1.41.59.51 0 1.02-.2 1.41-.59l7.78-7.78 2.81-2.81c.8-.78.8-2.07 0-2.86zM5.41 20L4 18.59l7.72-7.72 1.47 1.35L5.41 20z\"/>\n",
              "  </svg>\n",
              "      </button>\n",
              "      \n",
              "  <style>\n",
              "    .colab-df-container {\n",
              "      display:flex;\n",
              "      flex-wrap:wrap;\n",
              "      gap: 12px;\n",
              "    }\n",
              "\n",
              "    .colab-df-convert {\n",
              "      background-color: #E8F0FE;\n",
              "      border: none;\n",
              "      border-radius: 50%;\n",
              "      cursor: pointer;\n",
              "      display: none;\n",
              "      fill: #1967D2;\n",
              "      height: 32px;\n",
              "      padding: 0 0 0 0;\n",
              "      width: 32px;\n",
              "    }\n",
              "\n",
              "    .colab-df-convert:hover {\n",
              "      background-color: #E2EBFA;\n",
              "      box-shadow: 0px 1px 2px rgba(60, 64, 67, 0.3), 0px 1px 3px 1px rgba(60, 64, 67, 0.15);\n",
              "      fill: #174EA6;\n",
              "    }\n",
              "\n",
              "    [theme=dark] .colab-df-convert {\n",
              "      background-color: #3B4455;\n",
              "      fill: #D2E3FC;\n",
              "    }\n",
              "\n",
              "    [theme=dark] .colab-df-convert:hover {\n",
              "      background-color: #434B5C;\n",
              "      box-shadow: 0px 1px 3px 1px rgba(0, 0, 0, 0.15);\n",
              "      filter: drop-shadow(0px 1px 2px rgba(0, 0, 0, 0.3));\n",
              "      fill: #FFFFFF;\n",
              "    }\n",
              "  </style>\n",
              "\n",
              "      <script>\n",
              "        const buttonEl =\n",
              "          document.querySelector('#df-0f4a5381-ddf2-43c5-a63d-98bdedac26e7 button.colab-df-convert');\n",
              "        buttonEl.style.display =\n",
              "          google.colab.kernel.accessAllowed ? 'block' : 'none';\n",
              "\n",
              "        async function convertToInteractive(key) {\n",
              "          const element = document.querySelector('#df-0f4a5381-ddf2-43c5-a63d-98bdedac26e7');\n",
              "          const dataTable =\n",
              "            await google.colab.kernel.invokeFunction('convertToInteractive',\n",
              "                                                     [key], {});\n",
              "          if (!dataTable) return;\n",
              "\n",
              "          const docLinkHtml = 'Like what you see? Visit the ' +\n",
              "            '<a target=\"_blank\" href=https://colab.research.google.com/notebooks/data_table.ipynb>data table notebook</a>'\n",
              "            + ' to learn more about interactive tables.';\n",
              "          element.innerHTML = '';\n",
              "          dataTable['output_type'] = 'display_data';\n",
              "          await google.colab.output.renderOutput(dataTable, element);\n",
              "          const docLink = document.createElement('div');\n",
              "          docLink.innerHTML = docLinkHtml;\n",
              "          element.appendChild(docLink);\n",
              "        }\n",
              "      </script>\n",
              "    </div>\n",
              "  </div>\n",
              "  "
            ]
          },
          "metadata": {},
          "execution_count": 83
        }
      ]
    },
    {
      "cell_type": "markdown",
      "source": [
        "### Handling duplicates"
      ],
      "metadata": {
        "id": "qt5tPUOb6ABI"
      }
    },
    {
      "cell_type": "code",
      "source": [
        "# change columns name\n",
        "\n",
        "df = df.rename(columns={'name': 'username',\n",
        "                        'instagram name' : 'name',\n",
        "                        'Category_1' : 'segment1',\n",
        "                        'Category_2' : 'segment2',\n",
        "                        'Eng. (Auth.)' : 'engagement_auth',\n",
        "                        'Eng. (Avg.)': 'engagament_avg'})"
      ],
      "metadata": {
        "id": "hlZ-3Omu6_0a"
      },
      "execution_count": 84,
      "outputs": []
    },
    {
      "cell_type": "code",
      "source": [
        "# Check for duplicates\n",
        "\n",
        "number_duplicates = df.duplicated(subset='username').sum()\n",
        "\n",
        "# Print number of duplicates\n",
        "\n",
        "print('Print number of duplicates rows: ', number_duplicates)\n",
        "\n",
        "# Drop duplicates\n",
        "\n",
        "df.drop_duplicates(subset='username', inplace=True)\n",
        "\n",
        "# Print number rows after remove duplicates\n",
        "\n",
        "print('Print number of duplicates rows after remove: ', len(df))\n"
      ],
      "metadata": {
        "colab": {
          "base_uri": "https://localhost:8080/"
        },
        "id": "rbhFRq054ppN",
        "outputId": "d5c88db5-7fad-41aa-a6b9-69058ed01f13"
      },
      "execution_count": 85,
      "outputs": [
        {
          "output_type": "stream",
          "name": "stdout",
          "text": [
            "Print number of duplicates rows:  9\n",
            "Print number of duplicates rows after remove:  991\n"
          ]
        }
      ]
    },
    {
      "cell_type": "markdown",
      "source": [
        "### Data Type Convertion"
      ],
      "metadata": {
        "id": "4yDQGq0y7rF7"
      }
    },
    {
      "cell_type": "code",
      "source": [
        "# define function remove and convert\n",
        "\n",
        "def remove_and_convert(value):\n",
        "  if isinstance(value,str):\n",
        "    if 'M' in value:\n",
        "      value = float(value.replace('M','')) * 1000000\n",
        "    elif 'K' in value:\n",
        "      value = float(value.replace('K','')) * 1000\n",
        "    else:\n",
        "      value = float(value)\n",
        "  return value"
      ],
      "metadata": {
        "id": "yzBg6YmO8Krm"
      },
      "execution_count": 86,
      "outputs": []
    },
    {
      "cell_type": "code",
      "source": [
        "df.columns"
      ],
      "metadata": {
        "colab": {
          "base_uri": "https://localhost:8080/"
        },
        "id": "SWFc27coOXJm",
        "outputId": "1424a2a9-588b-42d2-93b8-6c1cba241bdf"
      },
      "execution_count": 87,
      "outputs": [
        {
          "output_type": "execute_result",
          "data": {
            "text/plain": [
              "Index(['Rank', 'username', 'name', 'segment1', 'segment2', 'followers',\n",
              "       'country', 'engagement_auth', 'engagament_avg'],\n",
              "      dtype='object')"
            ]
          },
          "metadata": {},
          "execution_count": 87
        }
      ]
    },
    {
      "cell_type": "code",
      "source": [
        "# remove and convert\n",
        "\n",
        "df['followers'] = df['followers'].apply(remove_and_convert)\n",
        "df['engagement_auth'] = df['engagement_auth'].apply(remove_and_convert)\n",
        "df['engagament_avg'] = df['engagament_avg'].apply(remove_and_convert)"
      ],
      "metadata": {
        "id": "XEnzkjXd-7m3"
      },
      "execution_count": 88,
      "outputs": []
    },
    {
      "cell_type": "code",
      "source": [
        "# check data type\n",
        "\n",
        "df.dtypes"
      ],
      "metadata": {
        "colab": {
          "base_uri": "https://localhost:8080/"
        },
        "id": "6XcjbU6E7vZ1",
        "outputId": "6869e00e-ab6a-4192-db36-4cf6ec79a83d"
      },
      "execution_count": 89,
      "outputs": [
        {
          "output_type": "execute_result",
          "data": {
            "text/plain": [
              "Rank                 int64\n",
              "username            object\n",
              "name                object\n",
              "segment1            object\n",
              "segment2            object\n",
              "followers          float64\n",
              "country             object\n",
              "engagement_auth    float64\n",
              "engagament_avg     float64\n",
              "dtype: object"
            ]
          },
          "metadata": {},
          "execution_count": 89
        }
      ]
    },
    {
      "cell_type": "markdown",
      "source": [
        "### Fix Data Structure"
      ],
      "metadata": {
        "id": "5JwfHP_u60FI"
      }
    },
    {
      "cell_type": "code",
      "source": [
        "cols = ['username', 'name', 'segment1', 'followers',\n",
        "       'country', 'engagement_auth', 'engagament_avg']\n",
        "\n",
        "df = df[cols]"
      ],
      "metadata": {
        "id": "f3la9t6XCiRm"
      },
      "execution_count": 90,
      "outputs": []
    },
    {
      "cell_type": "code",
      "source": [
        "# # add engagement_rate\n",
        "\n",
        "# df['engagement_rate'] = ((df['views']+df['likes']+df['comments']+df['shares']) / df['followers']) * 100"
      ],
      "metadata": {
        "id": "h6XrqVYiC0aw"
      },
      "execution_count": 91,
      "outputs": []
    },
    {
      "cell_type": "code",
      "source": [
        "df = df.sort_values(by='engagament_avg', ascending=False, ignore_index=True )"
      ],
      "metadata": {
        "id": "-OLlYZR5EaDF"
      },
      "execution_count": 92,
      "outputs": []
    },
    {
      "cell_type": "markdown",
      "source": [
        "### Handling missing value"
      ],
      "metadata": {
        "id": "0P_cvkuf6hHc"
      }
    },
    {
      "cell_type": "code",
      "source": [
        "# check null\n",
        "\n",
        "df.isnull().sum()"
      ],
      "metadata": {
        "colab": {
          "base_uri": "https://localhost:8080/"
        },
        "id": "SSoXNnDU4gfk",
        "outputId": "6bac6179-a723-44fe-b1a3-5b18a12a66a2"
      },
      "execution_count": 93,
      "outputs": [
        {
          "output_type": "execute_result",
          "data": {
            "text/plain": [
              "username            0\n",
              "name               19\n",
              "segment1           50\n",
              "followers           0\n",
              "country             1\n",
              "engagement_auth     0\n",
              "engagament_avg      0\n",
              "dtype: int64"
            ]
          },
          "metadata": {},
          "execution_count": 93
        }
      ]
    },
    {
      "cell_type": "code",
      "source": [
        "# drop null\n",
        "\n",
        "df = df.dropna()"
      ],
      "metadata": {
        "id": "I5qY-IlvPaW4"
      },
      "execution_count": 94,
      "outputs": []
    },
    {
      "cell_type": "code",
      "source": [
        "# check after drop\n",
        "\n",
        "df.isnull().sum()"
      ],
      "metadata": {
        "colab": {
          "base_uri": "https://localhost:8080/"
        },
        "id": "GnpGGaNYPoKI",
        "outputId": "d08eb0d1-ce87-45e0-bfe2-5845b55767ee"
      },
      "execution_count": 95,
      "outputs": [
        {
          "output_type": "execute_result",
          "data": {
            "text/plain": [
              "username           0\n",
              "name               0\n",
              "segment1           0\n",
              "followers          0\n",
              "country            0\n",
              "engagement_auth    0\n",
              "engagament_avg     0\n",
              "dtype: int64"
            ]
          },
          "metadata": {},
          "execution_count": 95
        }
      ]
    },
    {
      "cell_type": "code",
      "source": [
        "df.to_csv('influencerinsta22.csv', index=False)"
      ],
      "metadata": {
        "id": "YBTgIZD9GhpH"
      },
      "execution_count": 96,
      "outputs": []
    }
  ]
}